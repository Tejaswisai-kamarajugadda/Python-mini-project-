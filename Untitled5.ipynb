{
  "nbformat": 4,
  "nbformat_minor": 0,
  "metadata": {
    "colab": {
      "provenance": [],
      "authorship_tag": "ABX9TyNOsNDUDoOmX6JcSj7XLFnb",
      "include_colab_link": true
    },
    "kernelspec": {
      "name": "python3",
      "display_name": "Python 3"
    },
    "language_info": {
      "name": "python"
    }
  },
  "cells": [
    {
      "cell_type": "markdown",
      "metadata": {
        "id": "view-in-github",
        "colab_type": "text"
      },
      "source": [
        "<a href=\"https://colab.research.google.com/github/Tejaswisai-kamarajugadda/Python-mini-project-/blob/main/Untitled5.ipynb\" target=\"_parent\"><img src=\"https://colab.research.google.com/assets/colab-badge.svg\" alt=\"Open In Colab\"/></a>"
      ]
    },
    {
      "cell_type": "code",
      "execution_count": 12,
      "metadata": {
        "colab": {
          "base_uri": "https://localhost:8080/"
        },
        "id": "gvoDXj6OGuaE",
        "outputId": "296eb2b9-60dc-4d1c-a25b-0cc53750159d"
      },
      "outputs": [
        {
          "output_type": "stream",
          "name": "stdout",
          "text": [
            "[10, 8, 6, 5, 4, 3, 1]\n"
          ]
        }
      ],
      "source": [
        " numbers=[6,1,10,8,4,3,5]\n",
        " des_order=[]\n",
        "def minimum(num):\n",
        "    mini_value=num[0]\n",
        "    for x in num:\n",
        "       if x>=mini_value:\n",
        "         mini_value=x\n",
        "    num.remove(mini_value)\n",
        "    des_order.append(mini_value)\n",
        "for x in range(len(numbers)):\n",
        "    minimum(numbers)\n",
        "print(des_order)"
      ]
    }
  ]
}